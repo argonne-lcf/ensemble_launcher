{
 "cells": [
  {
   "cell_type": "code",
   "execution_count": 1,
   "id": "6d11665e",
   "metadata": {},
   "outputs": [],
   "source": [
    "import getpass\n",
    "import os\n",
    "\n",
    "if \"GOOGLE_API_KEY\" not in os.environ:\n",
    "    os.environ[\"GOOGLE_API_KEY\"] = getpass.getpass(\"Enter your Google AI API key: \")"
   ]
  },
  {
   "cell_type": "code",
   "execution_count": 2,
   "id": "ba2ea803",
   "metadata": {},
   "outputs": [
    {
     "name": "stderr",
     "output_type": "stream",
     "text": [
      "WARNING: All log messages before absl::InitializeLog() is called are written to STDERR\n",
      "E0000 00:00:1760987996.506993 8962312 alts_credentials.cc:93] ALTS creds ignored. Not running on GCP and untrusted ALTS is not enabled.\n"
     ]
    }
   ],
   "source": [
    "from langgraph.prebuilt import create_react_agent\n",
    "from datetime import datetime\n",
    "from langchain_google_genai import ChatGoogleGenerativeAI\n",
    "\n",
    "llm = ChatGoogleGenerativeAI(\n",
    "    model=\"gemini-2.5-flash\",\n",
    "    temperature=0,\n",
    "    max_tokens=None,\n",
    "    timeout=None,\n",
    "    max_retries=2,\n",
    ")"
   ]
  },
  {
   "cell_type": "code",
   "execution_count": 3,
   "id": "6fc62561",
   "metadata": {},
   "outputs": [],
   "source": [
    "from langchain_mcp_adapters.client import MultiServerMCPClient\n",
    "from langgraph.prebuilt import create_react_agent\n",
    "\n",
    "client = MultiServerMCPClient(\n",
    "    {\n",
    "        \"ensemble\": {\n",
    "            \"command\": \"python\",\n",
    "            # Make sure to update to the full absolute path to your math_server.py file\n",
    "            \"args\": [\"/Users/hari/projects/ensemble_launcher/ensemble_launcher/tests/mcp_test/start_mcp.py\"],\n",
    "            \"transport\": \"stdio\",\n",
    "        }\n",
    "    }\n",
    ")\n",
    "tools = await client.get_tools()"
   ]
  },
  {
   "cell_type": "code",
   "execution_count": 4,
   "id": "8ba13818",
   "metadata": {},
   "outputs": [
    {
     "name": "stderr",
     "output_type": "stream",
     "text": [
      "/var/folders/5x/hlksc0wn7j9f4n5hqtkl_7340000gp/T/ipykernel_46870/2062525893.py:1: LangGraphDeprecatedSinceV10: create_react_agent has been moved to `langchain.agents`. Please update your import to `from langchain.agents import create_agent`. Deprecated in LangGraph V1.0 to be removed in V2.0.\n",
      "  agent = create_react_agent(llm,tools)\n",
      "E0000 00:00:1760988019.764979 8962312 alts_credentials.cc:93] ALTS creds ignored. Not running on GCP and untrusted ALTS is not enabled.\n",
      "I0000 00:00:1760988023.383982 8962312 fork_posix.cc:71] Other threads are currently calling into gRPC, skipping fork() handlers\n",
      "Failed to parse JSONRPC message from server\n",
      "Traceback (most recent call last):\n",
      "  File \"/Users/hari/.envs/el/lib/python3.13/site-packages/mcp/client/stdio/__init__.py\", line 155, in stdout_reader\n",
      "    message = types.JSONRPCMessage.model_validate_json(line)\n",
      "  File \"/Users/hari/.envs/el/lib/python3.13/site-packages/pydantic/main.py\", line 746, in model_validate_json\n",
      "    return cls.__pydantic_validator__.validate_json(\n",
      "           ~~~~~~~~~~~~~~~~~~~~~~~~~~~~~~~~~~~~~~~~^\n",
      "        json_data, strict=strict, context=context, by_alias=by_alias, by_name=by_name\n",
      "        ^^^^^^^^^^^^^^^^^^^^^^^^^^^^^^^^^^^^^^^^^^^^^^^^^^^^^^^^^^^^^^^^^^^^^^^^^^^^^\n",
      "    )\n",
      "    ^\n",
      "pydantic_core._pydantic_core.ValidationError: 1 validation error for JSONRPCMessage\n",
      "  Invalid JSON: expected value at line 1 column 1 [type=json_invalid, input_value=\"Setting affinity failed ...ute 'sched_getaffinity'\", input_type=str]\n",
      "    For further information visit https://errors.pydantic.dev/2.11/v/json_invalid\n",
      "Failed to parse JSONRPC message from server\n",
      "Traceback (most recent call last):\n",
      "  File \"/Users/hari/.envs/el/lib/python3.13/site-packages/mcp/client/stdio/__init__.py\", line 155, in stdout_reader\n",
      "    message = types.JSONRPCMessage.model_validate_json(line)\n",
      "  File \"/Users/hari/.envs/el/lib/python3.13/site-packages/pydantic/main.py\", line 746, in model_validate_json\n",
      "    return cls.__pydantic_validator__.validate_json(\n",
      "           ~~~~~~~~~~~~~~~~~~~~~~~~~~~~~~~~~~~~~~~~^\n",
      "        json_data, strict=strict, context=context, by_alias=by_alias, by_name=by_name\n",
      "        ^^^^^^^^^^^^^^^^^^^^^^^^^^^^^^^^^^^^^^^^^^^^^^^^^^^^^^^^^^^^^^^^^^^^^^^^^^^^^\n",
      "    )\n",
      "    ^\n",
      "pydantic_core._pydantic_core.ValidationError: 1 validation error for JSONRPCMessage\n",
      "  Invalid JSON: expected value at line 1 column 1 [type=json_invalid, input_value=\"Setting affinity failed ...ute 'sched_getaffinity'\", input_type=str]\n",
      "    For further information visit https://errors.pydantic.dev/2.11/v/json_invalid\n",
      "Failed to parse JSONRPC message from server\n",
      "Traceback (most recent call last):\n",
      "  File \"/Users/hari/.envs/el/lib/python3.13/site-packages/mcp/client/stdio/__init__.py\", line 155, in stdout_reader\n",
      "    message = types.JSONRPCMessage.model_validate_json(line)\n",
      "  File \"/Users/hari/.envs/el/lib/python3.13/site-packages/pydantic/main.py\", line 746, in model_validate_json\n",
      "    return cls.__pydantic_validator__.validate_json(\n",
      "           ~~~~~~~~~~~~~~~~~~~~~~~~~~~~~~~~~~~~~~~~^\n",
      "        json_data, strict=strict, context=context, by_alias=by_alias, by_name=by_name\n",
      "        ^^^^^^^^^^^^^^^^^^^^^^^^^^^^^^^^^^^^^^^^^^^^^^^^^^^^^^^^^^^^^^^^^^^^^^^^^^^^^\n",
      "    )\n",
      "    ^\n",
      "pydantic_core._pydantic_core.ValidationError: 1 validation error for JSONRPCMessage\n",
      "  Invalid JSON: expected value at line 1 column 1 [type=json_invalid, input_value=\"Setting affinity failed ...ute 'sched_getaffinity'\", input_type=str]\n",
      "    For further information visit https://errors.pydantic.dev/2.11/v/json_invalid\n",
      "Failed to parse JSONRPC message from server\n",
      "Traceback (most recent call last):\n",
      "  File \"/Users/hari/.envs/el/lib/python3.13/site-packages/mcp/client/stdio/__init__.py\", line 155, in stdout_reader\n",
      "    message = types.JSONRPCMessage.model_validate_json(line)\n",
      "  File \"/Users/hari/.envs/el/lib/python3.13/site-packages/pydantic/main.py\", line 746, in model_validate_json\n",
      "    return cls.__pydantic_validator__.validate_json(\n",
      "           ~~~~~~~~~~~~~~~~~~~~~~~~~~~~~~~~~~~~~~~~^\n",
      "        json_data, strict=strict, context=context, by_alias=by_alias, by_name=by_name\n",
      "        ^^^^^^^^^^^^^^^^^^^^^^^^^^^^^^^^^^^^^^^^^^^^^^^^^^^^^^^^^^^^^^^^^^^^^^^^^^^^^\n",
      "    )\n",
      "    ^\n",
      "pydantic_core._pydantic_core.ValidationError: 1 validation error for JSONRPCMessage\n",
      "  Invalid JSON: expected value at line 1 column 1 [type=json_invalid, input_value=\"Setting affinity failed ...ute 'sched_getaffinity'\", input_type=str]\n",
      "    For further information visit https://errors.pydantic.dev/2.11/v/json_invalid\n",
      "Failed to parse JSONRPC message from server\n",
      "Traceback (most recent call last):\n",
      "  File \"/Users/hari/.envs/el/lib/python3.13/site-packages/mcp/client/stdio/__init__.py\", line 155, in stdout_reader\n",
      "    message = types.JSONRPCMessage.model_validate_json(line)\n",
      "  File \"/Users/hari/.envs/el/lib/python3.13/site-packages/pydantic/main.py\", line 746, in model_validate_json\n",
      "    return cls.__pydantic_validator__.validate_json(\n",
      "           ~~~~~~~~~~~~~~~~~~~~~~~~~~~~~~~~~~~~~~~~^\n",
      "        json_data, strict=strict, context=context, by_alias=by_alias, by_name=by_name\n",
      "        ^^^^^^^^^^^^^^^^^^^^^^^^^^^^^^^^^^^^^^^^^^^^^^^^^^^^^^^^^^^^^^^^^^^^^^^^^^^^^\n",
      "    )\n",
      "    ^\n",
      "pydantic_core._pydantic_core.ValidationError: 1 validation error for JSONRPCMessage\n",
      "  Invalid JSON: expected value at line 1 column 1 [type=json_invalid, input_value=\"Setting affinity failed ...ute 'sched_getaffinity'\", input_type=str]\n",
      "    For further information visit https://errors.pydantic.dev/2.11/v/json_invalid\n"
     ]
    }
   ],
   "source": [
    "agent = create_react_agent(llm,tools)\n",
    "agent_response = await agent.ainvoke({\"messages\": \"Run CFD simulations for a range of temperature 300 to 500 K and pressure 1 to 10 atm and get the result\"})"
   ]
  },
  {
   "cell_type": "code",
   "execution_count": 5,
   "id": "15d26746",
   "metadata": {},
   "outputs": [
    {
     "name": "stdout",
     "output_type": "stream",
     "text": [
      "================================\u001b[1m Human Message \u001b[0m=================================\n",
      "\n",
      "Run CFD simulations for a range of temperature 300 to 500 K and pressure 1 to 10 atm and get the result\n",
      "==================================\u001b[1m Ai Message \u001b[0m==================================\n",
      "Tool Calls:\n",
      "  sim (08efdf2d-dad8-4558-ab2a-b3cbe1a40871)\n",
      " Call ID: 08efdf2d-dad8-4558-ab2a-b3cbe1a40871\n",
      "  Args:\n",
      "    Pressure: [1.0, 3.25, 5.5, 7.75, 10.0]\n",
      "    Temperature: [300.0, 350.0, 400.0, 450.0, 500.0]\n",
      "=================================\u001b[1m Tool Message \u001b[0m=================================\n",
      "Name: sim\n",
      "\n",
      "[\"Ran simulation at Temperature:300.0 and Pressure: 1.0\", \"Ran simulation at Temperature:350.0 and Pressure: 3.25\", \"Ran simulation at Temperature:400.0 and Pressure: 5.5\", \"Ran simulation at Temperature:450.0 and Pressure: 7.75\", \"Ran simulation at Temperature:500.0 and Pressure: 10.0\"]\n",
      "==================================\u001b[1m Ai Message \u001b[0m==================================\n",
      "\n",
      "I have run CFD simulations for temperatures 300K, 350K, 400K, 450K, 500K and pressures 1 atm, 3.25 atm, 5.5 atm, 7.75 atm, 10 atm respectively.\n"
     ]
    }
   ],
   "source": [
    "for msg in agent_response['messages']:\n",
    "    msg.pretty_print()"
   ]
  }
 ],
 "metadata": {
  "kernelspec": {
   "display_name": "el",
   "language": "python",
   "name": "python3"
  },
  "language_info": {
   "codemirror_mode": {
    "name": "ipython",
    "version": 3
   },
   "file_extension": ".py",
   "mimetype": "text/x-python",
   "name": "python",
   "nbconvert_exporter": "python",
   "pygments_lexer": "ipython3",
   "version": "3.13.2"
  }
 },
 "nbformat": 4,
 "nbformat_minor": 5
}
